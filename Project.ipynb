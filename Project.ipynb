{
 "cells": [
  {
   "cell_type": "code",
   "execution_count": 1,
   "metadata": {},
   "outputs": [],
   "source": [
    "import sys\n",
    "import json\n",
    "import io\n",
    "import numpy as np\n",
    "import sklearn\n",
    "import pandas as pd\n",
    "from sklearn import metrics\n",
    "from sklearn.feature_extraction.text import CountVectorizer\n",
    "from sklearn.naive_bayes import MultinomialNB\n",
    "from sklearn.linear_model import SGDClassifier\n",
    "from sklearn.ensemble import RandomForestClassifier\n",
    "from sklearn.metrics import classification_report\n",
    "import matplotlib.pyplot as plt"
   ]
  },
  {
   "cell_type": "code",
   "execution_count": 2,
   "metadata": {},
   "outputs": [],
   "source": [
    "train_data = pd.read_json('train.json')\n",
    "test_data = pd.read_json('test.json')"
   ]
  },
  {
   "cell_type": "code",
   "execution_count": 3,
   "metadata": {},
   "outputs": [
    {
     "data": {
      "text/plain": [
       "<matplotlib.axes._subplots.AxesSubplot at 0x1c8602bff28>"
      ]
     },
     "execution_count": 3,
     "metadata": {},
     "output_type": "execute_result"
    },
    {
     "data": {
      "image/png": "[encoded data removed]",
      "text/plain": [
       "<Figure size 432x288 with 1 Axes>"
      ]
     },
     "metadata": {},
     "output_type": "display_data"
    }
   ],
   "source": [
    "plt.style.use('ggplot')\n",
    "train_data['cuisine'].value_counts().plot(kind='bar')"
   ]
  },
  {
   "cell_type": "code",
   "execution_count": 4,
   "metadata": {},
   "outputs": [
    {
     "data": {
      "text/html": [
       "<div>\n",
       "<style scoped>\n",
       "    .dataframe tbody tr th:only-of-type {\n",
       "        vertical-align: middle;\n",
       "    }\n",
       "\n",
       "    .dataframe tbody tr th {\n",
       "        vertical-align: top;\n",
       "    }\n",
       "\n",
       "    .dataframe thead th {\n",
       "        text-align: right;\n",
       "    }\n",
       "</style>\n",
       "<table border=\"1\" class=\"dataframe\">\n",
       "  <thead>\n",
       "    <tr style=\"text-align: right;\">\n",
       "      <th></th>\n",
       "      <th>cuisine</th>\n",
       "      <th>id</th>\n",
       "      <th>ingredients</th>\n",
       "      <th>concat_ingredients</th>\n",
       "    </tr>\n",
       "  </thead>\n",
       "  <tbody>\n",
       "    <tr>\n",
       "      <th>0</th>\n",
       "      <td>greek</td>\n",
       "      <td>10259</td>\n",
       "      <td>[romaine lettuce, black olives, grape tomatoes...</td>\n",
       "      <td>romaine lettuce;black olives;grape tomatoes;ga...</td>\n",
       "    </tr>\n",
       "    <tr>\n",
       "      <th>1</th>\n",
       "      <td>southern_us</td>\n",
       "      <td>25693</td>\n",
       "      <td>[plain flour, ground pepper, salt, tomatoes, g...</td>\n",
       "      <td>plain flour;ground pepper;salt;tomatoes;ground...</td>\n",
       "    </tr>\n",
       "    <tr>\n",
       "      <th>2</th>\n",
       "      <td>filipino</td>\n",
       "      <td>20130</td>\n",
       "      <td>[eggs, pepper, salt, mayonaise, cooking oil, g...</td>\n",
       "      <td>eggs;pepper;salt;mayonaise;cooking oil;green c...</td>\n",
       "    </tr>\n",
       "    <tr>\n",
       "      <th>3</th>\n",
       "      <td>indian</td>\n",
       "      <td>22213</td>\n",
       "      <td>[water, vegetable oil, wheat, salt]</td>\n",
       "      <td>water;vegetable oil;wheat;salt</td>\n",
       "    </tr>\n",
       "    <tr>\n",
       "      <th>4</th>\n",
       "      <td>indian</td>\n",
       "      <td>13162</td>\n",
       "      <td>[black pepper, shallots, cornflour, cayenne pe...</td>\n",
       "      <td>black pepper;shallots;cornflour;cayenne pepper...</td>\n",
       "    </tr>\n",
       "  </tbody>\n",
       "</table>\n",
       "</div>"
      ],
      "text/plain": [
       "       cuisine     id                                        ingredients  \\\n",
       "0        greek  10259  [romaine lettuce, black olives, grape tomatoes...   \n",
       "1  southern_us  25693  [plain flour, ground pepper, salt, tomatoes, g...   \n",
       "2     filipino  20130  [eggs, pepper, salt, mayonaise, cooking oil, g...   \n",
       "3       indian  22213                [water, vegetable oil, wheat, salt]   \n",
       "4       indian  13162  [black pepper, shallots, cornflour, cayenne pe...   \n",
       "\n",
       "                                  concat_ingredients  \n",
       "0  romaine lettuce;black olives;grape tomatoes;ga...  \n",
       "1  plain flour;ground pepper;salt;tomatoes;ground...  \n",
       "2  eggs;pepper;salt;mayonaise;cooking oil;green c...  \n",
       "3                     water;vegetable oil;wheat;salt  \n",
       "4  black pepper;shallots;cornflour;cayenne pepper...  "
      ]
     },
     "execution_count": 4,
     "metadata": {},
     "output_type": "execute_result"
    }
   ],
   "source": [
    "cv = CountVectorizer()\n",
    "train_data['concat_ingredients'] = train_data['ingredients'].map(';'.join)\n",
    "test_data['concat_ingredients'] = test_data['ingredients'].map(';'.join)\n",
    "train_data.head()"
   ]
  },
  {
   "cell_type": "code",
   "execution_count": 5,
   "metadata": {},
   "outputs": [],
   "source": [
    "## This Function helpfull for lower casing and stripping accents also\n",
    "X = cv.fit_transform(train_data['concat_ingredients'].values)\n",
    "X_test = cv.transform(test_data['concat_ingredients'].values)"
   ]
  },
  {
   "cell_type": "code",
   "execution_count": 6,
   "metadata": {},
   "outputs": [
    {
     "data": {
      "text/plain": [
       "0          greek\n",
       "1    southern_us\n",
       "2       filipino\n",
       "3         indian\n",
       "4         indian\n",
       "Name: cuisine, dtype: object"
      ]
     },
     "execution_count": 6,
     "metadata": {},
     "output_type": "execute_result"
    }
   ],
   "source": [
    "id_test = test_data['id']\n",
    "Y = train_data['cuisine']\n",
    "Y.head()"
   ]
  },
  {
   "cell_type": "code",
   "execution_count": 7,
   "metadata": {},
   "outputs": [],
   "source": [
    "## Naive Bayes Classifier\n",
    "NaiveModel = MultinomialNB().fit(X,Y)"
   ]
  },
  {
   "cell_type": "code",
   "execution_count": 8,
   "metadata": {},
   "outputs": [],
   "source": [
    "## Random Forest CLassifier\n",
    "Model1 = RandomForestClassifier(max_depth=40, n_estimators=20).fit(X,Y)"
   ]
  },
  {
   "cell_type": "code",
   "execution_count": 10,
   "metadata": {
    "scrolled": true
   },
   "outputs": [],
   "source": [
    "## SGD Classifier\n",
    "Model2 = SGDClassifier(loss='modified_huber', penalty='l2' , alpha=0.0001 , max_iter=10, tol=1e-3, random_state=65).fit(X,Y)"
   ]
  },
  {
   "cell_type": "code",
   "execution_count": 11,
   "metadata": {},
   "outputs": [
    {
     "name": "stdout",
     "output_type": "stream",
     "text": [
      "predicting\n"
     ]
    }
   ],
   "source": [
    "print(\"predicting\")\n",
    "Naive_PredictedY1s = NaiveModel.predict(X)\n",
    "Random_PredictedY1s = Model1.predict(X)\n",
    "SGD_PredictedY1s = Model2.predict(X)"
   ]
  },
  {
   "cell_type": "code",
   "execution_count": 12,
   "metadata": {},
   "outputs": [
    {
     "name": "stdout",
     "output_type": "stream",
     "text": [
      "Naive Bayes Accurracy : 0.744632 \n",
      "Random Forest Accurracy : 0.917785 \n",
      "SGD classifier Accurracy : 0.794841 \n"
     ]
    }
   ],
   "source": [
    "print(\"Naive Bayes Accurracy : %f \" % np.mean ( Naive_PredictedY1s == Y))\n",
    "print(\"Random Forest Accurracy : %f \" % np.mean ( Random_PredictedY1s == Y))\n",
    "print(\"SGD classifier Accurracy : %f \" % np.mean ( SGD_PredictedY1s == Y))"
   ]
  },
  {
   "cell_type": "code",
   "execution_count": 13,
   "metadata": {},
   "outputs": [
    {
     "name": "stdout",
     "output_type": "stream",
     "text": [
      "              precision    recall  f1-score   support\n",
      "\n",
      "   brazilian       0.44      0.60      0.51       344\n",
      "     british       0.49      0.37      0.42      1071\n",
      "cajun_creole       0.76      0.59      0.66      2001\n",
      "     chinese       0.87      0.76      0.81      3081\n",
      "    filipino       0.52      0.75      0.61       527\n",
      "      french       0.57      0.55      0.56      2745\n",
      "       greek       0.70      0.69      0.69      1195\n",
      "      indian       0.88      0.85      0.86      3102\n",
      "       irish       0.45      0.65      0.54       465\n",
      "     italian       0.78      0.85      0.81      7234\n",
      "    jamaican       0.65      0.83      0.73       409\n",
      "    japanese       0.63      0.89      0.74      1008\n",
      "      korean       0.75      0.82      0.79       754\n",
      "     mexican       0.88      0.92      0.90      6171\n",
      "    moroccan       0.79      0.73      0.76       883\n",
      "     russian       0.42      0.60      0.49       339\n",
      " southern_us       0.72      0.62      0.67      5086\n",
      "     spanish       0.55      0.53      0.54      1029\n",
      "        thai       0.80      0.72      0.75      1707\n",
      "  vietnamese       0.55      0.72      0.62       623\n",
      "\n",
      "   micro avg       0.74      0.74      0.74     39774\n",
      "   macro avg       0.66      0.70      0.67     39774\n",
      "weighted avg       0.75      0.74      0.74     39774\n",
      "\n"
     ]
    }
   ],
   "source": [
    "print(classification_report(Naive_PredictedY1s, Y))"
   ]
  },
  {
   "cell_type": "code",
   "execution_count": 14,
   "metadata": {},
   "outputs": [
    {
     "name": "stdout",
     "output_type": "stream",
     "text": [
      "              precision    recall  f1-score   support\n",
      "\n",
      "   brazilian       0.80      1.00      0.89       375\n",
      "     british       0.67      1.00      0.80       543\n",
      "cajun_creole       0.93      1.00      0.96      1438\n",
      "     chinese       0.96      0.96      0.96      2676\n",
      "    filipino       0.80      0.99      0.89       612\n",
      "      french       0.80      0.93      0.86      2283\n",
      "       greek       0.84      0.99      0.91       998\n",
      "      indian       0.96      0.98      0.97      2951\n",
      "       irish       0.65      0.99      0.78       437\n",
      "     italian       0.98      0.85      0.91      9051\n",
      "    jamaican       0.85      1.00      0.92       448\n",
      "    japanese       0.90      0.99      0.94      1299\n",
      "      korean       0.92      0.99      0.96       771\n",
      "     mexican       0.97      0.97      0.97      6463\n",
      "    moroccan       0.88      1.00      0.94       728\n",
      "     russian       0.64      1.00      0.78       314\n",
      " southern_us       0.96      0.76      0.85      5448\n",
      "     spanish       0.70      1.00      0.82       692\n",
      "        thai       0.97      1.00      0.98      1495\n",
      "  vietnamese       0.91      0.99      0.95       752\n",
      "\n",
      "   micro avg       0.92      0.92      0.92     39774\n",
      "   macro avg       0.86      0.97      0.90     39774\n",
      "weighted avg       0.93      0.92      0.92     39774\n",
      "\n"
     ]
    }
   ],
   "source": [
    "print(classification_report(Random_PredictedY1s, Y))"
   ]
  },
  {
   "cell_type": "code",
   "execution_count": 15,
   "metadata": {},
   "outputs": [
    {
     "name": "stdout",
     "output_type": "stream",
     "text": [
      "              precision    recall  f1-score   support\n",
      "\n",
      "   brazilian       0.62      0.80      0.70       361\n",
      "     british       0.42      0.85      0.56       394\n",
      "cajun_creole       0.53      0.92      0.67       893\n",
      "     chinese       0.86      0.85      0.85      2709\n",
      "    filipino       0.69      0.81      0.74       642\n",
      "      french       0.47      0.74      0.57      1658\n",
      "       greek       0.71      0.85      0.78       987\n",
      "      indian       0.90      0.87      0.88      3097\n",
      "       irish       0.66      0.67      0.66       659\n",
      "     italian       0.95      0.70      0.81     10608\n",
      "    jamaican       0.78      0.92      0.84       443\n",
      "    japanese       0.77      0.82      0.79      1337\n",
      "      korean       0.78      0.93      0.85       700\n",
      "     mexican       0.94      0.89      0.92      6749\n",
      "    moroccan       0.71      0.94      0.81       615\n",
      "     russian       0.47      0.86      0.61       269\n",
      " southern_us       0.84      0.70      0.76      5159\n",
      "     spanish       0.48      0.79      0.60       610\n",
      "        thai       0.79      0.84      0.81      1449\n",
      "  vietnamese       0.48      0.91      0.63       435\n",
      "\n",
      "   micro avg       0.79      0.79      0.79     39774\n",
      "   macro avg       0.69      0.83      0.74     39774\n",
      "weighted avg       0.83      0.79      0.80     39774\n",
      "\n"
     ]
    }
   ],
   "source": [
    "print(classification_report(SGD_PredictedY1s, Y))"
   ]
  },
  {
   "cell_type": "code",
   "execution_count": 16,
   "metadata": {},
   "outputs": [],
   "source": [
    "## Predicting the test data\n",
    "Predicted_Cuisines = Model1.predict(X_test)"
   ]
  },
  {
   "cell_type": "code",
   "execution_count": 17,
   "metadata": {},
   "outputs": [],
   "source": [
    "## Output Predictions\n",
    "out = io.open('submit.csv','w')\n",
    "out.write(u'id , cuisine\\n')\n",
    "for i in range(9944):\n",
    "    out.write('%s,%s\\n' % (id_test[i], Predicted_Cuisines[i]))"
   ]
  },
  {
   "cell_type": "code",
   "execution_count": 18,
   "metadata": {},
   "outputs": [
    {
     "name": "stdout",
     "output_type": "stream",
     "text": [
      "Total Number Of Ingredients: 21\n",
      "Enter Ingredient 0 : ham\n",
      "Enter Ingredient 1 : yellow onion\n",
      "Enter Ingredient 2 : white rice\n",
      "Enter Ingredient 3 : dried thyme\n",
      "Enter Ingredient 4 : boneless chicken skinless thigh\n",
      "Enter Ingredient 5 : flat leaf parsley\n",
      "Enter Ingredient 6 : freshly ground pepper\n",
      "Enter Ingredient 7 : all-purpose flour\n",
      "Enter Ingredient 8 : vegetable oil\n",
      "Enter Ingredient 9 : lump crab meat\n",
      "Enter Ingredient 10 : browning\n",
      "Enter Ingredient 11 : garlic cloves\n",
      "Enter Ingredient 12 : hot sauce\n",
      "Enter Ingredient 13 : paprika\n",
      "Enter Ingredient 14 : water\n",
      "Enter Ingredient 15 : andouille sausage\n",
      "Enter Ingredient 16 : shrimp\n",
      "Enter Ingredient 17 : okra\n",
      "Enter Ingredient 18 : smoked sausage\n",
      "Enter Ingredient 19 : file powder\n",
      "Enter Ingredient 20 : meat cuts\n",
      "\n",
      "The predicted cuisine for input ingredients is : cajun_creole\n"
     ]
    }
   ],
   "source": [
    "## This section is to predict the user input ingredients\n",
    "\n",
    "ing_array = [\"baking powder;eggs;all-purpose flour;raisins;milk;white sugar\"]\n",
    "no_of_ingredients = input(\"Total Number Of Ingredients: \")\n",
    "no_of_ingredients = int(no_of_ingredients)\n",
    "\n",
    "ingredient = \"\"\n",
    "\n",
    "for i in range(no_of_ingredients):\n",
    "    ing = input(\"Enter Ingredient \" + str(i) + \" : \")\n",
    "    ingredient = ingredient + ing + \";\"\n",
    "\n",
    "## Predicting User input ingredients\n",
    "\n",
    "ing_array.append(ingredient)\n",
    "User_in = cv.transform(ing_array)\n",
    "Predicted = Model1.predict(User_in)\n",
    "print(\"\")\n",
    "print(\"The predicted cuisine for input ingredients is : \"+Predicted[1])"
   ]
  },
  {
   "cell_type": "code",
   "execution_count": null,
   "metadata": {},
   "outputs": [],
   "source": []
  }
 ],
 "metadata": {
  "kernelspec": {
   "display_name": "Python 3",
   "language": "python",
   "name": "python3"
  },
  "language_info": {
   "codemirror_mode": {
    "name": "ipython",
    "version": 3
   },
   "file_extension": ".py",
   "mimetype": "text/x-python",
   "name": "python",
   "nbconvert_exporter": "python",
   "pygments_lexer": "ipython3",
   "version": "3.7.3"
  }
 },
 "nbformat": 4,
 "nbformat_minor": 2
}
